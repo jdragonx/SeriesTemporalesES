{
 "cells": [
  {
   "cell_type": "code",
   "execution_count": 1,
   "metadata": {},
   "outputs": [
    {
     "name": "stderr",
     "output_type": "stream",
     "text": [
      "Using TensorFlow backend.\n"
     ]
    }
   ],
   "source": [
    "import pandas as pd\n",
    "import numpy as np\n",
    "import matplotlib.pylab as plt\n",
    "import glob\n",
    "%matplotlib inline\n",
    "plt.rcParams['figure.figsize'] = (16, 9)\n",
    "plt.style.use('fast')\n",
    "\n",
    "from keras.models import Sequential\n",
    "from keras.layers import Dense,Activation,Flatten\n",
    "from sklearn.preprocessing import MinMaxScaler\n",
    "from pandas.plotting import register_matplotlib_converters\n",
    "from pandas import DataFrame\n",
    "from pandas import concat\n",
    "\n",
    "from math import sqrt\n",
    "from numpy import concatenate\n",
    "from matplotlib import pyplot\n",
    "from pandas import read_csv\n",
    "from pandas import DataFrame\n",
    "from pandas import concat\n",
    "from sklearn.preprocessing import MinMaxScaler as Scaler\n",
    "from sklearn.preprocessing import LabelEncoder\n",
    "from sklearn.metrics import mean_squared_error\n",
    "from keras.models import Sequential\n",
    "from keras.layers import Dense, Dropout\n",
    "from keras.layers import LSTM\n",
    "from keras.optimizers import Adam"
   ]
  },
  {
   "cell_type": "code",
   "execution_count": 2,
   "metadata": {},
   "outputs": [],
   "source": [
    "def series_to_supervised(data, n_in=1, n_out=1, dropnan=True):\n",
    "\tn_vars = 1 if type(data) is list else data.shape[1]\n",
    "\tdf = DataFrame(data)\n",
    "\tcols, names = list(), list()\n",
    "\t# input sequence (t-n, ... t-1)\n",
    "\tfor i in range(n_in, 0, -1):\n",
    "\t\tcols.append(df.shift(i))\n",
    "\t\tnames += [('var%d(t-%d)' % (j+1, i)) for j in range(n_vars)]\n",
    "\t# forecast sequence (t, t+1, ... t+n)\n",
    "\tfor i in range(0, n_out):\n",
    "\t\tcols.append(df.shift(-i))\n",
    "\t\tif i == 0:\n",
    "\t\t\tnames += [('var%d(t)' % (j+1)) for j in range(n_vars)]\n",
    "\t\telse:\n",
    "\t\t\tnames += [('var%d(t+%d)' % (j+1, i)) for j in range(n_vars)]\n",
    "\t# put it all together\n",
    "\tagg = concat(cols, axis=1)\n",
    "\tagg.columns = names\n",
    "\t# drop rows with NaN values\n",
    "\tif dropnan:\n",
    "\t\tagg.dropna(inplace=True)\n",
    "\treturn agg"
   ]
  },
  {
   "cell_type": "code",
   "execution_count": 3,
   "metadata": {},
   "outputs": [],
   "source": [
    "register_matplotlib_converters()"
   ]
  },
  {
   "cell_type": "code",
   "execution_count": 6,
   "metadata": {},
   "outputs": [
    {
     "data": {
      "image/png": "[encoded data removed]",
      "text/plain": [
       "<Figure size 432x288 with 1 Axes>"
      ]
     },
     "metadata": {
      "needs_background": "light"
     },
     "output_type": "display_data"
    }
   ],
   "source": [
    "df_all = {}\n",
    "for j in [377]:\n",
    "    f=('ES_Trades_%d_ticksDifR_training.csv') %  (j)\n",
    "    df_t = pd.read_csv(f,parse_dates=['DateTime'],infer_datetime_format=True,index_col='DateTime')\n",
    "    df_all.update([('%d' % j,df_t)])\n",
    "    plt.plot(df_t.index,df_t.mean(axis=1))\n",
    "    plt.title(f)\n",
    "    plt.show()"
   ]
  },
  {
   "cell_type": "code",
   "execution_count": 7,
   "metadata": {},
   "outputs": [],
   "source": [
    "n_out=10\n",
    "n_in=n_out*2\n",
    "n_capa = 25\n",
    "ep=200"
   ]
  },
  {
   "cell_type": "code",
   "execution_count": 8,
   "metadata": {},
   "outputs": [
    {
     "data": {
      "image/png": "[encoded data removed]",
      "text/plain": [
       "<Figure size 432x288 with 1 Axes>"
      ]
     },
     "metadata": {
      "needs_background": "light"
     },
     "output_type": "display_data"
    },
    {
     "name": "stdout",
     "output_type": "stream",
     "text": [
      "Test RMSE: 0.210\n"
     ]
    }
   ],
   "source": [
    "for j in [377]:\n",
    "    df_t = df_all.get(str(j))\n",
    "    scaler = MinMaxScaler(feature_range=(0, 1))\n",
    "    scaled = scaler.fit_transform(df_t)\n",
    "    \n",
    "    n_var=scaled.shape[1]\n",
    "    reframe = series_to_supervised(scaled,n_in,n_out)\n",
    "    values = reframe.values\n",
    "    sep = round(0.7*len(values))\n",
    "    x_n = n_var*n_in\n",
    "    x_train, x_test, y_train, y_test = values[:sep,:x_n], values[sep:,:x_n], values[:sep,x_n:], values[sep:,x_n:]\n",
    "    \n",
    "    model = Sequential()\n",
    "    model.add(Dense(n_capa,input_dim=(n_in*n_var),activation='relu'))#relu, rectificante lineal. sigmoid. tanh. softmax\n",
    "    model.add(Dense(n_capa,activation='tanh'))\n",
    "    model.add(Dense((n_out*n_var),activation='sigmoid'))\n",
    "    model.compile(loss='mean_absolute_error',optimizer='adam',metrics=['mse'])\n",
    "    \n",
    "    history = model.fit(x_train,y_train,epochs=ep,validation_data=(x_test,y_test),batch_size=n_capa,verbose=0)\n",
    "    plt.plot(history.history['loss'], label='train')\n",
    "    plt.plot(history.history['val_loss'], label='test')\n",
    "    plt.legend()\n",
    "    plt.title(str(j)+\" ticks:\")\n",
    "    plt.show()\n",
    "    \n",
    "    results = model.predict(x_test)\n",
    "    results = results.reshape(len(x_test)*n_out,n_var)\n",
    "    r_scale = scaler.inverse_transform(results)\n",
    "    oy_test = scaler.inverse_transform(y_test.reshape(len(x_test)*n_out,n_var))\n",
    "    rmse = rmse = sqrt(mean_squared_error(oy_test, r_scale))\n",
    "    print('Test RMSE: %.3f' % rmse)"
   ]
  },
  {
   "cell_type": "code",
   "execution_count": 9,
   "metadata": {},
   "outputs": [],
   "source": [
    "import pickle\n",
    "pickle.dump(model,open(\"model.p\",\"wb\"))\n",
    "pickle.dump(scaler,open(\"scaler.p\",\"wb\"))"
   ]
  }
 ],
 "metadata": {
  "kernelspec": {
   "display_name": "Python 3",
   "language": "python",
   "name": "python3"
  },
  "language_info": {
   "codemirror_mode": {
    "name": "ipython",
    "version": 3
   },
   "file_extension": ".py",
   "mimetype": "text/x-python",
   "name": "python",
   "nbconvert_exporter": "python",
   "pygments_lexer": "ipython3",
   "version": "3.7.6"
  }
 },
 "nbformat": 4,
 "nbformat_minor": 2
}
