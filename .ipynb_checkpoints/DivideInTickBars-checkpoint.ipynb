{
 "cells": [
  {
   "cell_type": "code",
   "execution_count": 1,
   "metadata": {},
   "outputs": [],
   "source": [
    "import pandas as pd\n",
    "import numpy as np"
   ]
  },
  {
   "cell_type": "code",
   "execution_count": 2,
   "metadata": {},
   "outputs": [],
   "source": [
    "df = pd.read_csv(\"ES_Trades.csv\")"
   ]
  },
  {
   "cell_type": "code",
   "execution_count": 3,
   "metadata": {},
   "outputs": [
    {
     "name": "stdout",
     "output_type": "stream",
     "text": [
      "        Symbol        Date          Time    Price  Volume\n",
      "0           ES  09/01/2013  17:00:00.083  1640.25       8\n",
      "1           ES  09/01/2013  17:00:00.083  1640.25       1\n",
      "2           ES  09/01/2013  17:00:00.083  1640.25       2\n",
      "3           ES  09/01/2013  17:00:00.083  1640.25       1\n",
      "4           ES  09/01/2013  17:00:00.083  1640.25       1\n",
      "...        ...         ...           ...      ...     ...\n",
      "5454945     ES  09/20/2013  16:14:58.922  1703.50       7\n",
      "5454946     ES  09/20/2013  16:14:58.922  1703.50       3\n",
      "5454947     ES  09/20/2013  16:14:58.945  1703.75       1\n",
      "5454948     ES  09/20/2013  16:14:59.111  1703.75       1\n",
      "5454949     ES  09/20/2013  16:14:59.251  1703.75       1\n",
      "\n",
      "[5454950 rows x 5 columns]\n"
     ]
    }
   ],
   "source": [
    "print(df)"
   ]
  },
  {
   "cell_type": "code",
   "execution_count": 12,
   "metadata": {},
   "outputs": [],
   "source": [
    "bar_df = pd.DataFrame(columns=df.columns)\n",
    "nticks = 987\n",
    "for i in range(0,len(df),nticks):\n",
    "    aux = df[i:i+nticks]\n",
    "    mini = aux['Price'].idxmin()\n",
    "    maxi = aux['Price'].idxmax()\n",
    "    if mini < maxi:\n",
    "        bar_df= pd.concat([bar_df,aux[0:1]],ignore_index=True)\n",
    "        bar_df= pd.concat([bar_df,aux[mini-i:mini-i+1]],ignore_index=True)\n",
    "        bar_df= pd.concat([bar_df,aux[maxi-i:maxi-i+1]],ignore_index=True)\n",
    "        bar_df= pd.concat([bar_df,aux[len(aux)-1:len(aux)]],ignore_index=True)\n",
    "    else:\n",
    "        bar_df= pd.concat([bar_df,aux[0:1]],ignore_index=True)\n",
    "        bar_df= pd.concat([bar_df,aux[maxi-i:maxi-i+1]],ignore_index=True)\n",
    "        bar_df= pd.concat([bar_df,aux[mini-i:mini-i+1]],ignore_index=True)\n",
    "        bar_df= pd.concat([bar_df,aux[len(aux)-1:len(aux)]],ignore_index=True)\n",
    "training_df=bar_df[['Date','Time','Price']]"
   ]
  },
  {
   "cell_type": "code",
   "execution_count": 13,
   "metadata": {},
   "outputs": [
    {
     "name": "stdout",
     "output_type": "stream",
     "text": [
      "      Symbol        Date          Time    Price Volume\n",
      "0         ES  09/01/2013  17:00:00.083  1640.25      8\n",
      "1         ES  09/01/2013  17:00:01.517  1641.00      8\n",
      "2         ES  09/01/2013  17:00:27.230  1639.00      1\n",
      "3         ES  09/01/2013  17:01:17.811  1639.75      1\n",
      "4         ES  09/01/2013  17:01:17.955  1639.75      5\n",
      "...      ...         ...           ...      ...    ...\n",
      "22103     ES  09/20/2013  16:00:56.186  1704.25      7\n",
      "22104     ES  09/20/2013  16:00:56.186  1704.25      1\n",
      "22105     ES  09/20/2013  16:01:52.808  1704.75      3\n",
      "22106     ES  09/20/2013  16:14:50.077  1703.50      1\n",
      "22107     ES  09/20/2013  16:14:59.251  1703.75      1\n",
      "\n",
      "[22108 rows x 5 columns]\n"
     ]
    }
   ],
   "source": [
    "print(bar_df)"
   ]
  },
  {
   "cell_type": "code",
   "execution_count": 14,
   "metadata": {},
   "outputs": [
    {
     "name": "stdout",
     "output_type": "stream",
     "text": [
      "             Date          Time    Price\n",
      "0      09/01/2013  17:00:00.083  1640.25\n",
      "1      09/01/2013  17:00:01.517  1641.00\n",
      "2      09/01/2013  17:00:27.230  1639.00\n",
      "3      09/01/2013  17:01:17.811  1639.75\n",
      "4      09/01/2013  17:01:17.955  1639.75\n",
      "...           ...           ...      ...\n",
      "22103  09/20/2013  16:00:56.186  1704.25\n",
      "22104  09/20/2013  16:00:56.186  1704.25\n",
      "22105  09/20/2013  16:01:52.808  1704.75\n",
      "22106  09/20/2013  16:14:50.077  1703.50\n",
      "22107  09/20/2013  16:14:59.251  1703.75\n",
      "\n",
      "[22108 rows x 3 columns]\n"
     ]
    }
   ],
   "source": [
    "print(training_df)"
   ]
  },
  {
   "cell_type": "code",
   "execution_count": 15,
   "metadata": {},
   "outputs": [
    {
     "name": "stdout",
     "output_type": "stream",
     "text": [
      "                      DateTime    Price\n",
      "0      09/01/2013 17:00:00.083  1640.25\n",
      "1      09/01/2013 17:00:01.517  1641.00\n",
      "2      09/01/2013 17:00:27.230  1639.00\n",
      "3      09/01/2013 17:01:17.811  1639.75\n",
      "4      09/01/2013 17:01:17.955  1639.75\n",
      "...                        ...      ...\n",
      "22103  09/20/2013 16:00:56.186  1704.25\n",
      "22104  09/20/2013 16:00:56.186  1704.25\n",
      "22105  09/20/2013 16:01:52.808  1704.75\n",
      "22106  09/20/2013 16:14:50.077  1703.50\n",
      "22107  09/20/2013 16:14:59.251  1703.75\n",
      "\n",
      "[22108 rows x 2 columns]\n"
     ]
    }
   ],
   "source": [
    "df1 = pd.DataFrame(columns=['DateTime','Price'])\n",
    "df1['DateTime'] = training_df['Date'].astype(str) + \" \" + training_df['Time']\n",
    "df1['Price'] = training_df['Price']\n",
    "print(df1)"
   ]
  },
  {
   "cell_type": "code",
   "execution_count": 16,
   "metadata": {},
   "outputs": [],
   "source": [
    "df1.to_csv(\"ES_Trades_\"+str(nticks)+\"_ticks_training.csv\",index=False)"
   ]
  }
 ],
 "metadata": {
  "kernelspec": {
   "display_name": "Python 3",
   "language": "python",
   "name": "python3"
  },
  "language_info": {
   "codemirror_mode": {
    "name": "ipython",
    "version": 3
   },
   "file_extension": ".py",
   "mimetype": "text/x-python",
   "name": "python",
   "nbconvert_exporter": "python",
   "pygments_lexer": "ipython3",
   "version": "3.7.4"
  }
 },
 "nbformat": 4,
 "nbformat_minor": 2
}
