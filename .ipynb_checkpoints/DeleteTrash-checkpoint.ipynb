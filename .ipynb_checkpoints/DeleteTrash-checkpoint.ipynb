{
 "cells": [
  {
   "cell_type": "code",
   "execution_count": 1,
   "metadata": {},
   "outputs": [],
   "source": [
    "import pandas as pd"
   ]
  },
  {
   "cell_type": "code",
   "execution_count": 2,
   "metadata": {},
   "outputs": [],
   "source": [
    "df = pd.read_csv(\"ES_Trades.csv\")"
   ]
  },
  {
   "cell_type": "code",
   "execution_count": 3,
   "metadata": {},
   "outputs": [
    {
     "name": "stdout",
     "output_type": "stream",
     "text": [
      "        Symbol        Date          Time    Price  Volume Market Flag  \\\n",
      "0        ESU13  09/01/2013  17:00:00.083  1640.25       8           E   \n",
      "1        ESU13  09/01/2013  17:00:00.083  1640.25       1           E   \n",
      "2        ESU13  09/01/2013  17:00:00.083  1640.25       2           E   \n",
      "3        ESU13  09/01/2013  17:00:00.083  1640.25       1           E   \n",
      "4        ESU13  09/01/2013  17:00:00.083  1640.25       1           E   \n",
      "...        ...         ...           ...      ...     ...         ...   \n",
      "5454945  ESZ13  09/20/2013  16:14:58.922  1703.50       7           E   \n",
      "5454946  ESZ13  09/20/2013  16:14:58.922  1703.50       3           E   \n",
      "5454947  ESZ13  09/20/2013  16:14:58.945  1703.75       1           E   \n",
      "5454948  ESZ13  09/20/2013  16:14:59.111  1703.75       1           E   \n",
      "5454949  ESZ13  09/20/2013  16:14:59.251  1703.75       1           E   \n",
      "\n",
      "         Sales Condition  Exclude Record Flag  Unfiltered Price  \n",
      "0                      0                  NaN           1640.25  \n",
      "1                      0                  NaN           1640.25  \n",
      "2                      0                  NaN           1640.25  \n",
      "3                      0                  NaN           1640.25  \n",
      "4                      0                  NaN           1640.25  \n",
      "...                  ...                  ...               ...  \n",
      "5454945                0                  NaN           1703.50  \n",
      "5454946                0                  NaN           1703.50  \n",
      "5454947                0                  NaN           1703.75  \n",
      "5454948                0                  NaN           1703.75  \n",
      "5454949                0                  NaN           1703.75  \n",
      "\n",
      "[5454950 rows x 9 columns]\n"
     ]
    }
   ],
   "source": [
    "print(df)"
   ]
  },
  {
   "cell_type": "code",
   "execution_count": 4,
   "metadata": {},
   "outputs": [
    {
     "name": "stdout",
     "output_type": "stream",
     "text": [
      "0          ESU13\n",
      "1          ESU13\n",
      "2          ESU13\n",
      "3          ESU13\n",
      "4          ESU13\n",
      "           ...  \n",
      "5454945    ESZ13\n",
      "5454946    ESZ13\n",
      "5454947    ESZ13\n",
      "5454948    ESZ13\n",
      "5454949    ESZ13\n",
      "Name: Symbol, Length: 5454950, dtype: object\n"
     ]
    }
   ],
   "source": [
    "print(df['Symbol'])"
   ]
  },
  {
   "cell_type": "code",
   "execution_count": 5,
   "metadata": {},
   "outputs": [],
   "source": [
    "df1 = df[['Symbol']]\n",
    "df2 = df[['Date','Time','Price','Volume']]"
   ]
  },
  {
   "cell_type": "code",
   "execution_count": 7,
   "metadata": {},
   "outputs": [
    {
     "name": "stdout",
     "output_type": "stream",
     "text": [
      "        Symbol\n",
      "0           ES\n",
      "1           ES\n",
      "2           ES\n",
      "3           ES\n",
      "4           ES\n",
      "...        ...\n",
      "5454945     ES\n",
      "5454946     ES\n",
      "5454947     ES\n",
      "5454948     ES\n",
      "5454949     ES\n",
      "\n",
      "[5454950 rows x 1 columns]\n"
     ]
    }
   ],
   "source": [
    "df1 = df1.replace({'ES.+':'ES'},regex=True)\n",
    "print(df1)"
   ]
  },
  {
   "cell_type": "code",
   "execution_count": 11,
   "metadata": {},
   "outputs": [],
   "source": [
    "df = pd.concat((df1,df2),axis=1)"
   ]
  },
  {
   "cell_type": "code",
   "execution_count": 12,
   "metadata": {},
   "outputs": [
    {
     "name": "stdout",
     "output_type": "stream",
     "text": [
      "        Symbol        Date          Time    Price  Volume\n",
      "0           ES  09/01/2013  17:00:00.083  1640.25       8\n",
      "1           ES  09/01/2013  17:00:00.083  1640.25       1\n",
      "2           ES  09/01/2013  17:00:00.083  1640.25       2\n",
      "3           ES  09/01/2013  17:00:00.083  1640.25       1\n",
      "4           ES  09/01/2013  17:00:00.083  1640.25       1\n",
      "...        ...         ...           ...      ...     ...\n",
      "5454945     ES  09/20/2013  16:14:58.922  1703.50       7\n",
      "5454946     ES  09/20/2013  16:14:58.922  1703.50       3\n",
      "5454947     ES  09/20/2013  16:14:58.945  1703.75       1\n",
      "5454948     ES  09/20/2013  16:14:59.111  1703.75       1\n",
      "5454949     ES  09/20/2013  16:14:59.251  1703.75       1\n",
      "\n",
      "[5454950 rows x 5 columns]\n"
     ]
    }
   ],
   "source": [
    "print(df)"
   ]
  },
  {
   "cell_type": "code",
   "execution_count": 17,
   "metadata": {},
   "outputs": [],
   "source": [
    "df.to_csv(\"ES_Trades.csv\",index=False)"
   ]
  }
 ],
 "metadata": {
  "kernelspec": {
   "display_name": "Python 3",
   "language": "python",
   "name": "python3"
  },
  "language_info": {
   "codemirror_mode": {
    "name": "ipython",
    "version": 3
   },
   "file_extension": ".py",
   "mimetype": "text/x-python",
   "name": "python",
   "nbconvert_exporter": "python",
   "pygments_lexer": "ipython3",
   "version": "3.7.4"
  }
 },
 "nbformat": 4,
 "nbformat_minor": 2
}
