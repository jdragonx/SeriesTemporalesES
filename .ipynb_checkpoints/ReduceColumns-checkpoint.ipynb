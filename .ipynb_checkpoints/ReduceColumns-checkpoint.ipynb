{
 "cells": [
  {
   "cell_type": "code",
   "execution_count": 1,
   "metadata": {},
   "outputs": [],
   "source": [
    "import pandas as pd"
   ]
  },
  {
   "cell_type": "code",
   "execution_count": 2,
   "metadata": {},
   "outputs": [],
   "source": [
    "df = pd.read_csv(\"ES_Trades.csv\")"
   ]
  },
  {
   "cell_type": "code",
   "execution_count": 3,
   "metadata": {},
   "outputs": [
    {
     "name": "stdout",
     "output_type": "stream",
     "text": [
      "        Symbol        Date          Time    Price  Volume\n",
      "0           ES  09/01/2013  17:00:00.083  1640.25       8\n",
      "1           ES  09/01/2013  17:00:00.083  1640.25       1\n",
      "2           ES  09/01/2013  17:00:00.083  1640.25       2\n",
      "3           ES  09/01/2013  17:00:00.083  1640.25       1\n",
      "4           ES  09/01/2013  17:00:00.083  1640.25       1\n",
      "...        ...         ...           ...      ...     ...\n",
      "5454945     ES  09/20/2013  16:14:58.922  1703.50       7\n",
      "5454946     ES  09/20/2013  16:14:58.922  1703.50       3\n",
      "5454947     ES  09/20/2013  16:14:58.945  1703.75       1\n",
      "5454948     ES  09/20/2013  16:14:59.111  1703.75       1\n",
      "5454949     ES  09/20/2013  16:14:59.251  1703.75       1\n",
      "\n",
      "[5454950 rows x 5 columns]\n"
     ]
    }
   ],
   "source": [
    "print(df)"
   ]
  },
  {
   "cell_type": "code",
   "execution_count": 5,
   "metadata": {},
   "outputs": [
    {
     "name": "stdout",
     "output_type": "stream",
     "text": [
      "               Date          Time    Price\n",
      "0        09/01/2013  17:00:00.083  1640.25\n",
      "1        09/01/2013  17:00:00.083  1640.25\n",
      "2        09/01/2013  17:00:00.083  1640.25\n",
      "3        09/01/2013  17:00:00.083  1640.25\n",
      "4        09/01/2013  17:00:00.083  1640.25\n",
      "...             ...           ...      ...\n",
      "5454945  09/20/2013  16:14:58.922  1703.50\n",
      "5454946  09/20/2013  16:14:58.922  1703.50\n",
      "5454947  09/20/2013  16:14:58.945  1703.75\n",
      "5454948  09/20/2013  16:14:59.111  1703.75\n",
      "5454949  09/20/2013  16:14:59.251  1703.75\n",
      "\n",
      "[5454950 rows x 3 columns]\n"
     ]
    }
   ],
   "source": [
    "df = df[['Date','Time','Price']]\n",
    "print(df)"
   ]
  },
  {
   "cell_type": "code",
   "execution_count": 6,
   "metadata": {},
   "outputs": [],
   "source": [
    "df['DateTime'] = df['Date'].astype(str)+\" \"+df['Time'].astype(str)"
   ]
  },
  {
   "cell_type": "code",
   "execution_count": 7,
   "metadata": {},
   "outputs": [
    {
     "name": "stdout",
     "output_type": "stream",
     "text": [
      "               Date          Time    Price                 DateTime\n",
      "0        09/01/2013  17:00:00.083  1640.25  09/01/2013 17:00:00.083\n",
      "1        09/01/2013  17:00:00.083  1640.25  09/01/2013 17:00:00.083\n",
      "2        09/01/2013  17:00:00.083  1640.25  09/01/2013 17:00:00.083\n",
      "3        09/01/2013  17:00:00.083  1640.25  09/01/2013 17:00:00.083\n",
      "4        09/01/2013  17:00:00.083  1640.25  09/01/2013 17:00:00.083\n",
      "...             ...           ...      ...                      ...\n",
      "5454945  09/20/2013  16:14:58.922  1703.50  09/20/2013 16:14:58.922\n",
      "5454946  09/20/2013  16:14:58.922  1703.50  09/20/2013 16:14:58.922\n",
      "5454947  09/20/2013  16:14:58.945  1703.75  09/20/2013 16:14:58.945\n",
      "5454948  09/20/2013  16:14:59.111  1703.75  09/20/2013 16:14:59.111\n",
      "5454949  09/20/2013  16:14:59.251  1703.75  09/20/2013 16:14:59.251\n",
      "\n",
      "[5454950 rows x 4 columns]\n"
     ]
    }
   ],
   "source": [
    "print(df)"
   ]
  },
  {
   "cell_type": "code",
   "execution_count": 8,
   "metadata": {},
   "outputs": [],
   "source": [
    "df = df[['DateTime','Price']]"
   ]
  },
  {
   "cell_type": "code",
   "execution_count": 9,
   "metadata": {},
   "outputs": [
    {
     "name": "stdout",
     "output_type": "stream",
     "text": [
      "                        DateTime    Price\n",
      "0        09/01/2013 17:00:00.083  1640.25\n",
      "1        09/01/2013 17:00:00.083  1640.25\n",
      "2        09/01/2013 17:00:00.083  1640.25\n",
      "3        09/01/2013 17:00:00.083  1640.25\n",
      "4        09/01/2013 17:00:00.083  1640.25\n",
      "...                          ...      ...\n",
      "5454945  09/20/2013 16:14:58.922  1703.50\n",
      "5454946  09/20/2013 16:14:58.922  1703.50\n",
      "5454947  09/20/2013 16:14:58.945  1703.75\n",
      "5454948  09/20/2013 16:14:59.111  1703.75\n",
      "5454949  09/20/2013 16:14:59.251  1703.75\n",
      "\n",
      "[5454950 rows x 2 columns]\n"
     ]
    }
   ],
   "source": [
    "print(df)"
   ]
  },
  {
   "cell_type": "code",
   "execution_count": 10,
   "metadata": {},
   "outputs": [],
   "source": [
    "df.to_csv(\"ES_Trades_comp.csv\",index=False)"
   ]
  }
 ],
 "metadata": {
  "kernelspec": {
   "display_name": "Python 3",
   "language": "python",
   "name": "python3"
  },
  "language_info": {
   "codemirror_mode": {
    "name": "ipython",
    "version": 3
   },
   "file_extension": ".py",
   "mimetype": "text/x-python",
   "name": "python",
   "nbconvert_exporter": "python",
   "pygments_lexer": "ipython3",
   "version": "3.7.4"
  }
 },
 "nbformat": 4,
 "nbformat_minor": 2
}
