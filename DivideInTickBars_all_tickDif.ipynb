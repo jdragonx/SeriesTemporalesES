{
 "cells": [
  {
   "cell_type": "code",
   "execution_count": 1,
   "metadata": {},
   "outputs": [],
   "source": [
    "import pandas as pd\n",
    "import numpy as np"
   ]
  },
  {
   "cell_type": "code",
   "execution_count": 2,
   "metadata": {},
   "outputs": [],
   "source": [
    "df = pd.read_csv(\"ES_Trades.csv\")"
   ]
  },
  {
   "cell_type": "code",
   "execution_count": 3,
   "metadata": {},
   "outputs": [
    {
     "name": "stdout",
     "output_type": "stream",
     "text": [
      "        Symbol        Date          Time    Price  Volume\n",
      "0           ES  09/01/2013  17:00:00.083  1640.25       8\n",
      "1           ES  09/01/2013  17:00:00.083  1640.25       1\n",
      "2           ES  09/01/2013  17:00:00.083  1640.25       2\n",
      "3           ES  09/01/2013  17:00:00.083  1640.25       1\n",
      "4           ES  09/01/2013  17:00:00.083  1640.25       1\n",
      "...        ...         ...           ...      ...     ...\n",
      "5454945     ES  09/20/2013  16:14:58.922  1703.50       7\n",
      "5454946     ES  09/20/2013  16:14:58.922  1703.50       3\n",
      "5454947     ES  09/20/2013  16:14:58.945  1703.75       1\n",
      "5454948     ES  09/20/2013  16:14:59.111  1703.75       1\n",
      "5454949     ES  09/20/2013  16:14:59.251  1703.75       1\n",
      "\n",
      "[5454950 rows x 5 columns]\n"
     ]
    }
   ],
   "source": [
    "print(df)"
   ]
  },
  {
   "cell_type": "code",
   "execution_count": 4,
   "metadata": {},
   "outputs": [],
   "source": [
    "numeros = [89, 144, 233, 377, 610, 987, 1597, 2584, 4181, 6765, 10946, 17711, 28657, 46368, 75025, 121393]\n",
    "for nticks in numeros:\n",
    "    bar_df = pd.DataFrame(columns=['DateTime','First','Second','Close'])\n",
    "    training_df = pd.DataFrame(columns=['DateTime','First','Second','Close'])\n",
    "    for i in range(0,len(df),nticks):\n",
    "        aux = df[i:i+nticks]\n",
    "        mini = aux['Price'].idxmin()\n",
    "        maxi = aux['Price'].idxmax()\n",
    "        mn = min(mini,maxi)\n",
    "        mx = max(mini,maxi)\n",
    "        op = aux[0:1]['Price'].values\n",
    "        fs = aux[mn-i:mn-i+1]['Price'].values\n",
    "        sc = aux[mx-i:mx-i+1]['Price'].values\n",
    "        cls = aux[len(aux)-1:len(aux)]['Price'].values\n",
    "\n",
    "        bar_df['First'] = (fs-op)\n",
    "        bar_df['Second'] = (sc-fs)\n",
    "        bar_df['Close'] = (cls-sc)\n",
    "\n",
    "        bar_df['DateTime'] = aux[len(aux)-1:len(aux)]['Date'].values+\" \"+aux[len(aux)-1:len(aux)]['Time'].values\n",
    "        training_df = pd.concat([training_df,bar_df],ignore_index=True)\n",
    "    training_df.to_csv(\"ES_Trades_\"+str(nticks)+\"_ticksDif_training.csv\",index=False)"
   ]
  }
 ],
 "metadata": {
  "kernelspec": {
   "display_name": "Python 3",
   "language": "python",
   "name": "python3"
  },
  "language_info": {
   "codemirror_mode": {
    "name": "ipython",
    "version": 3
   },
   "file_extension": ".py",
   "mimetype": "text/x-python",
   "name": "python",
   "nbconvert_exporter": "python",
   "pygments_lexer": "ipython3",
   "version": "3.7.4"
  }
 },
 "nbformat": 4,
 "nbformat_minor": 2
}
