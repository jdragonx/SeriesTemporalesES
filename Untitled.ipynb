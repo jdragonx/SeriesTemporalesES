{
 "cells": [
  {
   "cell_type": "code",
   "execution_count": 1,
   "metadata": {},
   "outputs": [],
   "source": [
    "import pandas as pd"
   ]
  },
  {
   "cell_type": "code",
   "execution_count": 3,
   "metadata": {},
   "outputs": [],
   "source": [
    "df=pd.read_csv(\"ES_Trades_377_ticks_training.csv\")"
   ]
  },
  {
   "cell_type": "code",
   "execution_count": 4,
   "metadata": {},
   "outputs": [
    {
     "name": "stdout",
     "output_type": "stream",
     "text": [
      "                      DateTime     Open     High      Low    Close\n",
      "0      09/01/2013 17:00:00.453  1640.25  1640.75  1639.25  1639.25\n",
      "1      09/01/2013 17:00:36.227  1639.25  1641.00  1639.00  1639.25\n",
      "2      09/01/2013 17:01:39.833  1639.25  1640.50  1639.00  1639.75\n",
      "3      09/01/2013 17:04:52.770  1639.75  1640.75  1639.50  1640.50\n",
      "4      09/01/2013 17:09:56.961  1640.50  1641.00  1640.00  1641.00\n",
      "...                        ...      ...      ...      ...      ...\n",
      "14465  09/20/2013 15:41:51.590  1704.25  1704.50  1704.00  1704.00\n",
      "14466  09/20/2013 15:56:40.808  1704.00  1704.00  1703.25  1703.75\n",
      "14467  09/20/2013 16:07:02.016  1704.00  1704.75  1704.00  1704.25\n",
      "14468  09/20/2013 16:14:22.346  1704.50  1704.75  1703.75  1704.25\n",
      "14469  09/20/2013 16:14:59.251  1704.25  1704.25  1703.50  1703.75\n",
      "\n",
      "[14470 rows x 5 columns]\n"
     ]
    }
   ],
   "source": [
    "print(df)"
   ]
  },
  {
   "cell_type": "code",
   "execution_count": 8,
   "metadata": {},
   "outputs": [],
   "source": [
    "df['Close']=df['Close']-df['Low']"
   ]
  },
  {
   "cell_type": "code",
   "execution_count": 11,
   "metadata": {},
   "outputs": [
    {
     "name": "stdout",
     "output_type": "stream",
     "text": [
      "                      DateTime     Open     High   Low  Close\n",
      "0      09/01/2013 17:00:00.453  1640.25  1640.75 -1.50   0.00\n",
      "1      09/01/2013 17:00:36.227  1639.25  1641.00 -2.00   0.25\n",
      "2      09/01/2013 17:01:39.833  1639.25  1640.50 -1.50   0.75\n",
      "3      09/01/2013 17:04:52.770  1639.75  1640.75 -1.25   1.00\n",
      "4      09/01/2013 17:09:56.961  1640.50  1641.00 -1.00   1.00\n",
      "...                        ...      ...      ...   ...    ...\n",
      "14465  09/20/2013 15:41:51.590  1704.25  1704.50 -0.50   0.00\n",
      "14466  09/20/2013 15:56:40.808  1704.00  1704.00 -0.75   0.50\n",
      "14467  09/20/2013 16:07:02.016  1704.00  1704.75 -0.75   0.25\n",
      "14468  09/20/2013 16:14:22.346  1704.50  1704.75 -1.00   0.50\n",
      "14469  09/20/2013 16:14:59.251  1704.25  1704.25 -0.75   0.25\n",
      "\n",
      "[14470 rows x 5 columns]\n"
     ]
    }
   ],
   "source": [
    "print(df)"
   ]
  },
  {
   "cell_type": "code",
   "execution_count": 10,
   "metadata": {},
   "outputs": [],
   "source": [
    "df['Low'] = df['Low']-df['High']"
   ]
  },
  {
   "cell_type": "code",
   "execution_count": 12,
   "metadata": {},
   "outputs": [],
   "source": [
    "df['High'] = df['High']-df['Open']"
   ]
  },
  {
   "cell_type": "code",
   "execution_count": 13,
   "metadata": {},
   "outputs": [],
   "source": [
    "df = df.drop(['Open'],axis=1)"
   ]
  },
  {
   "cell_type": "code",
   "execution_count": 15,
   "metadata": {},
   "outputs": [
    {
     "name": "stdout",
     "output_type": "stream",
     "text": [
      "                      DateTime  High   Low  Close\n",
      "0      09/01/2013 17:00:00.453  0.50 -1.50   0.00\n",
      "1      09/01/2013 17:00:36.227  1.75 -2.00   0.25\n",
      "2      09/01/2013 17:01:39.833  1.25 -1.50   0.75\n",
      "3      09/01/2013 17:04:52.770  1.00 -1.25   1.00\n",
      "4      09/01/2013 17:09:56.961  0.50 -1.00   1.00\n",
      "...                        ...   ...   ...    ...\n",
      "14465  09/20/2013 15:41:51.590  0.25 -0.50   0.00\n",
      "14466  09/20/2013 15:56:40.808  0.00 -0.75   0.50\n",
      "14467  09/20/2013 16:07:02.016  0.75 -0.75   0.25\n",
      "14468  09/20/2013 16:14:22.346  0.25 -1.00   0.50\n",
      "14469  09/20/2013 16:14:59.251  0.00 -0.75   0.25\n",
      "\n",
      "[14470 rows x 4 columns]\n"
     ]
    }
   ],
   "source": [
    "print(df)"
   ]
  },
  {
   "cell_type": "code",
   "execution_count": 16,
   "metadata": {},
   "outputs": [],
   "source": [
    "df.to_csv(\"ES_Trades_377_ticksDifR_training.csv\",index=False)"
   ]
  }
 ],
 "metadata": {
  "kernelspec": {
   "display_name": "Python 3",
   "language": "python",
   "name": "python3"
  },
  "language_info": {
   "codemirror_mode": {
    "name": "ipython",
    "version": 3
   },
   "file_extension": ".py",
   "mimetype": "text/x-python",
   "name": "python",
   "nbconvert_exporter": "python",
   "pygments_lexer": "ipython3",
   "version": "3.7.4"
  }
 },
 "nbformat": 4,
 "nbformat_minor": 2
}
